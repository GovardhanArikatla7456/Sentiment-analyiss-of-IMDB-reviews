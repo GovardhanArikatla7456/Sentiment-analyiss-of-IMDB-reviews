{
 "cells": [
  {
   "cell_type": "code",
   "execution_count": 36,
   "id": "80896a97-fe81-4fe3-8504-de573493294a",
   "metadata": {},
   "outputs": [
    {
     "name": "stdout",
     "output_type": "stream",
     "text": [
      "Defaulting to user installation because normal site-packages is not writeable\n",
      "Requirement already satisfied: nltk in ./.local/lib/python3.8/site-packages (3.8.1)\n",
      "Requirement already satisfied: regex>=2021.8.3 in ./.local/lib/python3.8/site-packages (from nltk) (2023.6.3)\n",
      "Requirement already satisfied: joblib in ./.local/lib/python3.8/site-packages (from nltk) (1.2.0)\n",
      "Requirement already satisfied: tqdm in ./.local/lib/python3.8/site-packages (from nltk) (4.64.1)\n",
      "Requirement already satisfied: click in /usr/lib/python3/dist-packages (from nltk) (7.0)\n",
      "\n",
      "\u001b[1m[\u001b[0m\u001b[34;49mnotice\u001b[0m\u001b[1;39;49m]\u001b[0m\u001b[39;49m A new release of pip is available: \u001b[0m\u001b[31;49m23.0.1\u001b[0m\u001b[39;49m -> \u001b[0m\u001b[32;49m23.2.1\u001b[0m\n",
      "\u001b[1m[\u001b[0m\u001b[34;49mnotice\u001b[0m\u001b[1;39;49m]\u001b[0m\u001b[39;49m To update, run: \u001b[0m\u001b[32;49mpython3 -m pip install --upgrade pip\u001b[0m\n",
      "Note: you may need to restart the kernel to use updated packages.\n"
     ]
    }
   ],
   "source": [
    "pip install nltk\n"
   ]
  },
  {
   "cell_type": "code",
   "execution_count": 37,
   "id": "ea6a9e9e-3545-4782-bbda-bae996808711",
   "metadata": {},
   "outputs": [],
   "source": [
    "# importing libraries\n",
    "import numpy as np\n",
    "import pandas as pd \n",
    "import torch\n",
    "import torch.nn as nn\n",
    "import torch.nn.functional as F\n",
    "import nltk\n",
    "from nltk.corpus import stopwords \n",
    "from collections import Counter\n",
    "import string\n",
    "import re\n",
    "import seaborn as sns\n",
    "import matplotlib.pyplot as plt\n",
    "from torch.utils.data import TensorDataset, DataLoader\n",
    "from sklearn.model_selection import train_test_split"
   ]
  },
  {
   "cell_type": "code",
   "execution_count": 38,
   "id": "74821296-6864-4be4-93b9-f19ef9e25123",
   "metadata": {},
   "outputs": [
    {
     "name": "stdout",
     "output_type": "stream",
     "text": [
      "cuda\n"
     ]
    }
   ],
   "source": [
    "# Setting device to GPU if available\n",
    "if torch.cuda.is_available():\n",
    "    device = torch.device(\"cuda\") \n",
    "else:\n",
    "     device = torch.device(\"cpu\")\n",
    "\n",
    "print(device)"
   ]
  },
  {
   "cell_type": "code",
   "execution_count": 39,
   "id": "9844508b-899d-4883-94ab-ad06f3d2b274",
   "metadata": {},
   "outputs": [
    {
     "data": {
      "text/html": [
       "<div>\n",
       "<style scoped>\n",
       "    .dataframe tbody tr th:only-of-type {\n",
       "        vertical-align: middle;\n",
       "    }\n",
       "\n",
       "    .dataframe tbody tr th {\n",
       "        vertical-align: top;\n",
       "    }\n",
       "\n",
       "    .dataframe thead th {\n",
       "        text-align: right;\n",
       "    }\n",
       "</style>\n",
       "<table border=\"1\" class=\"dataframe\">\n",
       "  <thead>\n",
       "    <tr style=\"text-align: right;\">\n",
       "      <th></th>\n",
       "      <th>review</th>\n",
       "      <th>sentiment</th>\n",
       "    </tr>\n",
       "  </thead>\n",
       "  <tbody>\n",
       "    <tr>\n",
       "      <th>0</th>\n",
       "      <td>One of the other reviewers has mentioned that ...</td>\n",
       "      <td>positive</td>\n",
       "    </tr>\n",
       "    <tr>\n",
       "      <th>1</th>\n",
       "      <td>A wonderful little production. &lt;br /&gt;&lt;br /&gt;The...</td>\n",
       "      <td>positive</td>\n",
       "    </tr>\n",
       "    <tr>\n",
       "      <th>2</th>\n",
       "      <td>I thought this was a wonderful way to spend ti...</td>\n",
       "      <td>positive</td>\n",
       "    </tr>\n",
       "    <tr>\n",
       "      <th>3</th>\n",
       "      <td>Basically there's a family where a little boy ...</td>\n",
       "      <td>negative</td>\n",
       "    </tr>\n",
       "    <tr>\n",
       "      <th>4</th>\n",
       "      <td>Petter Mattei's \"Love in the Time of Money\" is...</td>\n",
       "      <td>positive</td>\n",
       "    </tr>\n",
       "  </tbody>\n",
       "</table>\n",
       "</div>"
      ],
      "text/plain": [
       "                                              review sentiment\n",
       "0  One of the other reviewers has mentioned that ...  positive\n",
       "1  A wonderful little production. <br /><br />The...  positive\n",
       "2  I thought this was a wonderful way to spend ti...  positive\n",
       "3  Basically there's a family where a little boy ...  negative\n",
       "4  Petter Mattei's \"Love in the Time of Money\" is...  positive"
      ]
     },
     "execution_count": 39,
     "metadata": {},
     "output_type": "execute_result"
    }
   ],
   "source": [
    "# loading dataset\n",
    "Dataset = 'IMDB_Dataset.csv'\n",
    "dataset = pd.read_csv(Dataset)\n",
    "dataset.head()"
   ]
  },
  {
   "cell_type": "code",
   "execution_count": 40,
   "id": "46abd57b-f130-4274-a955-809bc71c33fa",
   "metadata": {},
   "outputs": [],
   "source": [
    "# assigining x and y values and splitting the dataset into train and test datasets\n",
    "X= dataset['review'].values\n",
    "y = dataset['sentiment'].values\n",
    "x_train,x_test,y_train,y_test = train_test_split(X,y,stratify=y, test_size = 0.33)"
   ]
  },
  {
   "cell_type": "code",
   "execution_count": 41,
   "id": "b686f3b1-e772-4911-b561-e6935a4c46fc",
   "metadata": {},
   "outputs": [],
   "source": [
    "# encoding sentiment values\n",
    "from sklearn.preprocessing import LabelEncoder\n",
    "label_encoder = LabelEncoder()\n",
    "y_train_encoded = label_encoder.fit_transform(y_train)\n",
    "y_test_encoded = label_encoder.transform(y_test)"
   ]
  },
  {
   "cell_type": "code",
   "execution_count": 42,
   "id": "16c7034f-c325-48eb-8a68-43488fa2e163",
   "metadata": {},
   "outputs": [
    {
     "name": "stderr",
     "output_type": "stream",
     "text": [
      "[nltk_data] Downloading package stopwords to /home/ubuntu/nltk_data...\n",
      "[nltk_data]   Package stopwords is already up-to-date!\n"
     ]
    },
    {
     "data": {
      "text/plain": [
       "True"
      ]
     },
     "execution_count": 42,
     "metadata": {},
     "output_type": "execute_result"
    }
   ],
   "source": [
    "nltk.download('stopwords')"
   ]
  },
  {
   "cell_type": "code",
   "execution_count": 44,
   "id": "0e9cc850-03fb-487b-b65a-28e07eb92668",
   "metadata": {},
   "outputs": [],
   "source": [
    "# removing unwanted text using regualr expressions\n",
    "def preprocessing_data(review):\n",
    "    review=re.sub(\"\\W+\",' ',review)\n",
    "    review=re.sub(r'\\sn\\s',' ',review)\n",
    "    review=re.sub(r'\\sr',' ',review)\n",
    "    review=re.sub(r'[0-9]',' ',review)\n",
    "    review=re.sub(r'\\sxac',' ',review)\n",
    "    review=re.sub(r'\\sxe',' ',review)\n",
    "    review=re.sub(r'\\sx\\s',' ',review)\n",
    "    review=re.sub(r'\\sdx\\s',' ',review)\n",
    "    review=re.sub(r'\\sck\\s',' ',review)\n",
    "    review=re.sub(r'\\sxc\\s',' ',review)\n",
    "    review=re.sub(r'\\sxbd\\s',' ',review)\n",
    "    review=re.sub(r'\\sxa\\s',' ',review)\n",
    "    review=re.sub(r'\\sxa\\s',' ',review)\n",
    "    review=re.sub(r'\\sxt\\s',' ',review)\n",
    "    review=re.sub(r'\\sxf\\s',' ',review)\n",
    "    review=re.sub(r'\\sxp\\s',' ',review)\n",
    "    review=re.sub(r'\\sxzy\\s',' ',review)\n",
    "    review=re.sub(r'\\sxs\\s',' ',review)\n",
    "    review=re.sub(r'\\sxa\\s',' ',review)\n",
    "    review=re.sub(r'\\sxsr\\s',' ',review)\n",
    "    review=re.sub(r'\\sda\\s',' ',review)\n",
    "    review=re.sub(r'\\sc\\s',' ',review)\n",
    "    review=re.sub(r'b\\s+',' ',review)\n",
    "    review=re.sub(r'\\s+',' ',review)\n",
    "    review=re.sub(r'\\s[a-z]\\s',' ',review)\n",
    "\n",
    "    return review\n",
    "\n",
    "\n"
   ]
  },
  {
   "cell_type": "code",
   "execution_count": 45,
   "id": "b108cd78-1e7c-4aa5-941c-f44ad1779f7b",
   "metadata": {},
   "outputs": [],
   "source": [
    "# tokenization of the text \n",
    "def tokenize(x_train,x_test):\n",
    "    word_list = []\n",
    "    train_list = []\n",
    "    test_list = []\n",
    "\n",
    "    stop_words = set(stopwords.words('english')) \n",
    "    for i in x_train:\n",
    "        for word in i.lower().split():\n",
    "            word = preprocessing_data(word)\n",
    "            if word not in stop_words and word != '':\n",
    "                word_list.append(word)\n",
    "  \n",
    "    corpus = Counter(word_list)\n",
    "    text = Counter(word_list)\n",
    "    total_words=len(text)\n",
    "    sorted_words=text.most_common(1500)\n",
    "    vocab = {w:i+1 for i,(w,u) in enumerate(sorted_words)}\n",
    "    \n",
    "    \n",
    "    for i in x_train:\n",
    "            train_list.append([vocab[preprocessing_data(word)] for word in i.lower().split() \n",
    "                                     if preprocessing_data(word) in vocab.keys()])\n",
    "    for j in x_test:\n",
    "            test_list.append([vocab[preprocessing_data(word)] for word in j.lower().split() \n",
    "                                    if preprocessing_data(word) in vocab.keys()])\n",
    "            \n",
    "    return np.array(train_list), np.array(test_list),vocab"
   ]
  },
  {
   "cell_type": "code",
   "execution_count": 46,
   "id": "59a28cd3-6ea5-4151-a25e-58253499587c",
   "metadata": {},
   "outputs": [
    {
     "name": "stderr",
     "output_type": "stream",
     "text": [
      "<ipython-input-45-c5b0e07da60e>:28: VisibleDeprecationWarning: Creating an ndarray from ragged nested sequences (which is a list-or-tuple of lists-or-tuples-or ndarrays with different lengths or shapes) is deprecated. If you meant to do this, you must specify 'dtype=object' when creating the ndarray.\n",
      "  return np.array(train_list), np.array(test_list),vocab\n"
     ]
    }
   ],
   "source": [
    "x_train,x_test,vocabulary = tokenize(x_train,x_test)"
   ]
  },
  {
   "cell_type": "code",
   "execution_count": 47,
   "id": "367b3a98-01ba-4787-b2fc-e3d98e6e43c3",
   "metadata": {},
   "outputs": [],
   "source": [
    "# padding to a sequence of length 300 \n",
    "def padding_col(reviews, len_seq):\n",
    "    features = np.zeros((len(reviews), len_seq),dtype=int)\n",
    "    for i, review in enumerate(reviews):\n",
    "        if len(review) != 0:\n",
    "            features[i, -len(review):] = np.array(review)[:len_seq]\n",
    "    return features"
   ]
  },
  {
   "cell_type": "code",
   "execution_count": 48,
   "id": "bdd27c52-32ca-4dab-ba67-5a12aa21efc5",
   "metadata": {},
   "outputs": [],
   "source": [
    "# padding x values of training and testing data\n",
    "x_train_ = padding_col(x_train,300)\n",
    "x_test_= padding_col(x_test,300)\n",
    "y_train = np.array(y_train)\n",
    "y_test = np.array(y_test)\n",
    "\n",
    "y_train_ = np.array(y_train_encoded, dtype=np.float64)\n",
    "y_test_ = np.array(y_test_encoded, dtype=np.float64)"
   ]
  },
  {
   "cell_type": "code",
   "execution_count": 49,
   "id": "a0e8a6ad-c4dc-4687-bcd7-f62aa08aabf4",
   "metadata": {},
   "outputs": [],
   "source": [
    "#Tensor datasets\n",
    "train_data = TensorDataset(torch.from_numpy(x_train_), torch.from_numpy(y_train_))\n",
    "test_data = TensorDataset(torch.from_numpy(x_test_), torch.from_numpy(y_test_))\n",
    "\n",
    "# dataloaders\n",
    "batch_size = 50\n",
    "# Initializing train loader and test loader\n",
    "train_loader = DataLoader(train_data, shuffle=True, batch_size=batch_size)\n",
    "test_loader = DataLoader(test_data, shuffle=True, batch_size=batch_size)"
   ]
  },
  {
   "cell_type": "code",
   "execution_count": 50,
   "id": "5046dce1-587b-41aa-82d5-d4fb72568827",
   "metadata": {},
   "outputs": [],
   "source": [
    "#defining LSTM Architecture \n",
    "class RNN(nn.Module):\n",
    "    \n",
    "  def __init__(self,input_size, dim_embedding, dim_hidden, num_layers,prob_drop = 0.5):\n",
    "    super(RNN, self).__init__()\n",
    "    self.input_size = input_size\n",
    "    self.dim_emdbedding = dim_embedding\n",
    "    self.dim_hidden = dim_hidden\n",
    "    self.num_layers = num_layers\n",
    "    self.lstm = nn.LSTM(input_size = dim_embedding, num_layers = num_layers, hidden_size = dim_hidden, batch_first = True)\n",
    "    self.embedding = nn.Embedding(input_size,dim_embedding)\n",
    "    self.dropout = nn.Dropout(0.2)\n",
    "    self.fc = nn.Linear(self.dim_hidden, dim_output)\n",
    "    self.sig = nn.Sigmoid()\n",
    "  def forward(self, x, hidden):\n",
    "    batch_size = x.size(0)\n",
    "    embedd = self.embedding(x)\n",
    "    out_lstm, hidden = self.lstm(embedd,hidden)\n",
    "    output_lstm = out_lstm.contiguous().view(-1,self.dim_hidden)\n",
    "    out = self.dropout(output_lstm)\n",
    "    out = self.fc(out)\n",
    "    sig_output = self.sig(out)\n",
    "    sig_output = sig_output.view(batch_size, -1)\n",
    "    sig_output = sig_output[:,-1]\n",
    "    return sig_output, hidden\n",
    "  \n",
    "  def init_hidden(self, batch_size):\n",
    "    h0 = torch.zeros((self.num_layers,batch_size,self.dim_hidden)).to(device)\n",
    "    c0 = torch.zeros((self.num_layers,batch_size,self.dim_hidden)).to(device)\n",
    "    hidden = (h0,c0)\n",
    "    return hidden"
   ]
  },
  {
   "cell_type": "code",
   "execution_count": 51,
   "id": "f285e3c6-cb4f-4c5d-8cfb-3dfcf0a96582",
   "metadata": {},
   "outputs": [
    {
     "name": "stdout",
     "output_type": "stream",
     "text": [
      "RNN(\n",
      "  (lstm): LSTM(64, 256, num_layers=3, batch_first=True)\n",
      "  (embedding): Embedding(1501, 64)\n",
      "  (dropout): Dropout(p=0.2, inplace=False)\n",
      "  (fc): Linear(in_features=256, out_features=1, bias=True)\n",
      "  (sig): Sigmoid()\n",
      ")\n"
     ]
    }
   ],
   "source": [
    "# inputs to the LSTM model\n",
    "input_size = len(vocabulary) + 1\n",
    "num_layers = 3\n",
    "dim_hidden = 256\n",
    "dim_embedding = 64\n",
    "dim_output = 1\n",
    "model = RNN(input_size, dim_embedding, dim_hidden, num_layers,prob_drop = 0.5)\n",
    "model.to(device)\n",
    "print(model)"
   ]
  },
  {
   "cell_type": "code",
   "execution_count": 72,
   "id": "15c0e837-7335-4e15-9241-89a0e8587d48",
   "metadata": {},
   "outputs": [],
   "source": [
    "# initializing loss \n",
    "criterion = nn.BCELoss()\n",
    "# initilizing optimization functions\n",
    "lr=0.001\n",
    "optimizer = torch.optim.Adam(model.parameters(), lr=lr)\n"
   ]
  },
  {
   "cell_type": "code",
   "execution_count": 73,
   "id": "4346cd46-e0a1-41ad-9865-af2ce3af1306",
   "metadata": {},
   "outputs": [
    {
     "name": "stdout",
     "output_type": "stream",
     "text": [
      "Epoch 1\n",
      "train_loss : 0.6236105816132986 train_accuracy : 0.6192238805970149\n",
      "Epoch 2\n",
      "train_loss : 0.4064575444406538 train_accuracy : 0.8185970149253732\n",
      "Epoch 3\n",
      "train_loss : 0.34380956979385063 train_accuracy : 0.8524179104477612\n",
      "Epoch 4\n",
      "train_loss : 0.3151578710817579 train_accuracy : 0.8669850746268657\n",
      "Epoch 5\n",
      "train_loss : 0.29598031038446215 train_accuracy : 0.8774029850746269\n",
      "Epoch 6\n",
      "train_loss : 0.2762245747358052 train_accuracy : 0.885910447761194\n",
      "Epoch 7\n",
      "train_loss : 0.25668687810426327 train_accuracy : 0.895044776119403\n",
      "Epoch 8\n",
      "train_loss : 0.22674597242096467 train_accuracy : 0.9098208955223881\n",
      "Epoch 9\n",
      "train_loss : 0.19041263466117098 train_accuracy : 0.9269850746268656\n",
      "Epoch 10\n",
      "train_loss : 0.15014091351750627 train_accuracy : 0.9455223880597015\n"
     ]
    }
   ],
   "source": [
    "# Training LSTM  with 10 epochs\n",
    "clip = 5\n",
    "num_epochs = 10\n",
    "train_loss = []\n",
    "test_loss = []\n",
    "train_accuracy = []\n",
    "test_accuracy = []\n",
    "for epoch in range(num_epochs):\n",
    "    training_losses = []\n",
    "    training_accuracy = 0\n",
    "    model.train()\n",
    "    h = model.init_hidden(batch_size)\n",
    "    for inputs, labels in train_loader:\n",
    "        inputs = inputs.to(device)\n",
    "        labels = labels.to(device)\n",
    "        h = tuple([i.data for i in h])\n",
    "        model.zero_grad()\n",
    "        output, h = model(inputs,h)\n",
    "        loss = criterion(output.squeeze(), labels.float())\n",
    "        loss.backward()\n",
    "        training_losses.append(loss.item())\n",
    "        output = torch.round(output.squeeze())\n",
    "        accuracy = torch.sum(output == labels.squeeze()).item()\n",
    "        training_accuracy += accuracy\n",
    "        nn.utils.clip_grad_norm_(model.parameters(),clip)\n",
    "        optimizer.step()\n",
    "    train_loss_ = np.mean(training_losses)\n",
    "    train_acc_ = training_accuracy/len(train_loader.dataset)\n",
    "    train_loss.append(train_loss_)\n",
    "    train_accuracy.append(train_acc_)\n",
    "    print(f'Epoch {epoch+1}') \n",
    "    print(f'train_loss : {train_loss_} train_accuracy : {train_acc_}')\n",
    "\n",
    "\n"
   ]
  },
  {
   "cell_type": "code",
   "execution_count": 75,
   "id": "6fd9bd0b-5240-4edf-ada8-994623fcbbd7",
   "metadata": {},
   "outputs": [
    {
     "data": {
      "text/plain": [
       "<matplotlib.legend.Legend at 0x7f7f30813880>"
      ]
     },
     "execution_count": 75,
     "metadata": {},
     "output_type": "execute_result"
    },
    {
     "data": {
      "image/png": "[encoded data removed]",
      "text/plain": [
       "<Figure size 1080x360 with 1 Axes>"
      ]
     },
     "metadata": {
      "needs_background": "light"
     },
     "output_type": "display_data"
    }
   ],
   "source": [
    "# plotting curve for training accuracy of LSTM\n",
    "fig = plt.figure(figsize = (15, 5))\n",
    "plt.subplot(1, 2, 1)\n",
    "plt.plot(train_accuracy, label='Train Accuracy', color = 'red')\n",
    "plt.title(\"LSTM train Accuracy\")\n",
    "plt.legend()"
   ]
  },
  {
   "cell_type": "code",
   "execution_count": 76,
   "id": "5af9d699-8fcb-4b06-b408-f23331c7f5ca",
   "metadata": {},
   "outputs": [
    {
     "data": {
      "text/plain": [
       "<matplotlib.legend.Legend at 0x7f7f3076ca00>"
      ]
     },
     "execution_count": 76,
     "metadata": {},
     "output_type": "execute_result"
    },
    {
     "data": {
      "image/png": "[encoded data removed]",
      "text/plain": [
       "<Figure size 1080x360 with 1 Axes>"
      ]
     },
     "metadata": {
      "needs_background": "light"
     },
     "output_type": "display_data"
    }
   ],
   "source": [
    "# plotting curve for loss for LSTM training\n",
    "fig = plt.figure(figsize = (15, 5))\n",
    "plt.subplot(1, 2, 1)\n",
    "plt.plot(train_loss, label='Training loss')\n",
    "plt.title(\"LSTM train Loss\")\n",
    "plt.legend()"
   ]
  },
  {
   "cell_type": "code",
   "execution_count": 77,
   "id": "527c6ff3-6f4f-47c1-95c6-f68da25571aa",
   "metadata": {},
   "outputs": [
    {
     "name": "stdout",
     "output_type": "stream",
     "text": [
      "Epoch 1\n",
      "test_loss : 0.4467120636818987 test_accuracy : 0.8523636363636363\n",
      "Epoch 2\n",
      "test_loss : 0.44758785972089477 test_accuracy : 0.8523636363636363\n",
      "Epoch 3\n",
      "test_loss : 0.4464816897204428 test_accuracy : 0.8524242424242424\n",
      "Epoch 4\n",
      "test_loss : 0.44730958487048295 test_accuracy : 0.8521818181818182\n",
      "Epoch 5\n",
      "test_loss : 0.44704460675517715 test_accuracy : 0.8523636363636363\n",
      "Epoch 6\n",
      "test_loss : 0.4475131569712451 test_accuracy : 0.8523030303030303\n",
      "Epoch 7\n",
      "test_loss : 0.4473882429414626 test_accuracy : 0.8522424242424242\n",
      "Epoch 8\n",
      "test_loss : 0.4477788092060523 test_accuracy : 0.8521212121212122\n",
      "Epoch 9\n",
      "test_loss : 0.4467573215112542 test_accuracy : 0.8524242424242424\n",
      "Epoch 10\n",
      "test_loss : 0.44693306558059925 test_accuracy : 0.8525454545454545\n"
     ]
    }
   ],
   "source": [
    "# testing LSTM model with 10 epochs\n",
    "clip = 5\n",
    "num_epochs = 10\n",
    "test_loss_list = []\n",
    "test_accuracy = []\n",
    "for epoch in range(num_epochs):\n",
    "    test_h = model.init_hidden(batch_size)\n",
    "    test_losses = []\n",
    "    test_acc = 0.0\n",
    "    model.eval()\n",
    "    for inputs, labels in test_loader:\n",
    "        test_h = tuple([each.data for each in test_h])\n",
    "        inputs, labels = inputs.to(device), labels.to(device)\n",
    "        output, test_h = model(inputs, test_h)\n",
    "        test_loss = criterion(output.squeeze(), labels.float())\n",
    "        test_losses.append(test_loss.item())\n",
    "        output = torch.round(output.squeeze())\n",
    "        accuracy = torch.sum(output == labels.squeeze()).item()\n",
    "        test_acc += accuracy\n",
    "    test_loss_ = np.mean(test_losses)\n",
    "    test_acc_ = test_acc/len(test_loader.dataset)\n",
    "    test_loss_list.append(test_loss_)\n",
    "    test_accuracy.append(test_acc_)\n",
    "    print(f'Epoch {epoch+1}') \n",
    "    print(f'test_loss : {test_loss_} test_accuracy : {test_acc_}')\n"
   ]
  },
  {
   "cell_type": "code",
   "execution_count": 78,
   "id": "dd4ede3b-defd-48b3-8e48-073364055577",
   "metadata": {},
   "outputs": [
    {
     "data": {
      "text/plain": [
       "<matplotlib.legend.Legend at 0x7f7f30756f10>"
      ]
     },
     "execution_count": 78,
     "metadata": {},
     "output_type": "execute_result"
    },
    {
     "data": {
      "image/png": "[encoded data removed]",
      "text/plain": [
       "<Figure size 1080x360 with 1 Axes>"
      ]
     },
     "metadata": {
      "needs_background": "light"
     },
     "output_type": "display_data"
    }
   ],
   "source": [
    "# curve for LSTM test loss\n",
    "fig = plt.figure(figsize = (15, 5))\n",
    "plt.subplot(1, 2, 1)\n",
    "plt.plot(test_loss_list, label='Testing loss')\n",
    "plt.title(\"LSTM test Loss\")\n",
    "plt.legend()\n"
   ]
  },
  {
   "cell_type": "code",
   "execution_count": 79,
   "id": "935d2bcc-397c-41b3-997e-cc49062ec5ce",
   "metadata": {},
   "outputs": [
    {
     "data": {
      "text/plain": [
       "<matplotlib.legend.Legend at 0x7f7f306eb160>"
      ]
     },
     "execution_count": 79,
     "metadata": {},
     "output_type": "execute_result"
    },
    {
     "data": {
      "image/png": "[encoded data removed]",
      "text/plain": [
       "<Figure size 1080x360 with 1 Axes>"
      ]
     },
     "metadata": {
      "needs_background": "light"
     },
     "output_type": "display_data"
    }
   ],
   "source": [
    "# curve for LSTM test accuracy\n",
    "fig = plt.figure(figsize = (15, 5))\n",
    "plt.subplot(1, 2, 1)\n",
    "plt.plot(test_accuracy, label='Testing accuracy', color = 'red')\n",
    "plt.title(\"LSTM test Accuracy\")\n",
    "plt.legend()"
   ]
  },
  {
   "cell_type": "code",
   "execution_count": 80,
   "id": "864ae7bf-ab78-4130-b802-0bd9e70826e5",
   "metadata": {},
   "outputs": [],
   "source": [
    "# prediction model for custom input\n",
    "batch_size = 1\n",
    "def predict(sentence):\n",
    "    sequence = np.array([vocabulary[preprocessing_data(word)] for word in sentence.split() if preprocessing_data(word) in vocabulary.keys()])\n",
    "    sequence = np.expand_dims(sequence, axis = 0)\n",
    "    pad_seq = torch.from_numpy(padding_col(sequence, 300))\n",
    "    inputs = pad_seq.to(device)\n",
    "    h = model.init_hidden(batch_size)\n",
    "    h = tuple([each.data for each in h])\n",
    "    output, h = model(inputs, h)\n",
    "    return (output.item())"
   ]
  },
  {
   "cell_type": "code",
   "execution_count": 83,
   "id": "54f38daa-f037-4885-8631-84e62b788d79",
   "metadata": {},
   "outputs": [
    {
     "name": "stdout",
     "output_type": "stream",
     "text": [
      "True sentiment is  : positive\n",
      "Predicted sentiment is positive with a probability of 0.12613798677921295\n"
     ]
    }
   ],
   "source": [
    "# Testing the sentiment of random review from dataset\n",
    "index = 52\n",
    "print(f'True sentiment is  : {dataset[\"sentiment\"][index]}')\n",
    "pred = predict(dataset['review'][index])\n",
    "if pred > 0.5:\n",
    "    status = \"positive\" \n",
    "else:\n",
    "    \"negative\"\n",
    "if status == \"negative\":\n",
    "    pred = (1 - pred) \n",
    "else:\n",
    "    pred\n",
    "print(f'Predicted sentiment is {status} with a probability of {pred}')"
   ]
  },
  {
   "cell_type": "code",
   "execution_count": 86,
   "id": "ae0f0da5-096d-472a-bb2c-9c725ea72c06",
   "metadata": {},
   "outputs": [
    {
     "name": "stdout",
     "output_type": "stream",
     "text": [
      "Predicted sentiment is positive with a probability of 0.5956729054450989\n"
     ]
    }
   ],
   "source": [
    "# testing with random input sentence\n",
    "pred = predict(\"there is good screen play in the movie\")\n",
    "if pred > 0.5:\n",
    "    status = \"positive\" \n",
    "else:\n",
    "    \"negative\"\n",
    "if status == \"negative\":\n",
    "    pred = (1 - pred) \n",
    "else:\n",
    "    pred\n",
    "print(f'Predicted sentiment is {status} with a probability of {pred}')"
   ]
  },
  {
   "cell_type": "code",
   "execution_count": null,
   "id": "a9a8bef4-b255-40fc-aca3-ad5b64f39921",
   "metadata": {},
   "outputs": [],
   "source": []
  }
 ],
 "metadata": {
  "kernelspec": {
   "display_name": "Python 3",
   "language": "python",
   "name": "python3"
  },
  "language_info": {
   "codemirror_mode": {
    "name": "ipython",
    "version": 3
   },
   "file_extension": ".py",
   "mimetype": "text/x-python",
   "name": "python",
   "nbconvert_exporter": "python",
   "pygments_lexer": "ipython3",
   "version": "3.8.10"
  }
 },
 "nbformat": 4,
 "nbformat_minor": 5
}

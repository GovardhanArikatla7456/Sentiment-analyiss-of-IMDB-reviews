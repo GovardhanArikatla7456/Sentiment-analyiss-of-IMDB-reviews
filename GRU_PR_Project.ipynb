{
 "cells": [
  {
   "cell_type": "code",
   "execution_count": 77,
   "id": "80896a97-fe81-4fe3-8504-de573493294a",
   "metadata": {
    "id": "80896a97-fe81-4fe3-8504-de573493294a",
    "outputId": "12931c2d-20d9-4cc4-8762-6203162d3379"
   },
   "outputs": [
    {
     "name": "stdout",
     "output_type": "stream",
     "text": [
      "Defaulting to user installation because normal site-packages is not writeable\n",
      "Requirement already satisfied: nltk in ./.local/lib/python3.8/site-packages (3.8.1)\n",
      "Requirement already satisfied: joblib in ./.local/lib/python3.8/site-packages (from nltk) (1.2.0)\n",
      "Requirement already satisfied: regex>=2021.8.3 in ./.local/lib/python3.8/site-packages (from nltk) (2023.6.3)\n",
      "Requirement already satisfied: tqdm in ./.local/lib/python3.8/site-packages (from nltk) (4.64.1)\n",
      "Requirement already satisfied: click in /usr/lib/python3/dist-packages (from nltk) (7.0)\n",
      "\n",
      "\u001b[1m[\u001b[0m\u001b[34;49mnotice\u001b[0m\u001b[1;39;49m]\u001b[0m\u001b[39;49m A new release of pip is available: \u001b[0m\u001b[31;49m23.0.1\u001b[0m\u001b[39;49m -> \u001b[0m\u001b[32;49m23.2.1\u001b[0m\n",
      "\u001b[1m[\u001b[0m\u001b[34;49mnotice\u001b[0m\u001b[1;39;49m]\u001b[0m\u001b[39;49m To update, run: \u001b[0m\u001b[32;49mpython3 -m pip install --upgrade pip\u001b[0m\n",
      "Note: you may need to restart the kernel to use updated packages.\n"
     ]
    }
   ],
   "source": [
    "pip install nltk\n"
   ]
  },
  {
   "cell_type": "code",
   "execution_count": 78,
   "id": "ea6a9e9e-3545-4782-bbda-bae996808711",
   "metadata": {
    "id": "ea6a9e9e-3545-4782-bbda-bae996808711"
   },
   "outputs": [],
   "source": [
    "# importing libraries\n",
    "import numpy as np\n",
    "import pandas as pd\n",
    "import torch\n",
    "import torch.nn as nn\n",
    "import torch.nn.functional as F\n",
    "import nltk\n",
    "from nltk.corpus import stopwords\n",
    "from collections import Counter\n",
    "import string\n",
    "import re\n",
    "import seaborn as sns\n",
    "import matplotlib.pyplot as plt\n",
    "from torch.utils.data import TensorDataset, DataLoader\n",
    "from sklearn.model_selection import train_test_split"
   ]
  },
  {
   "cell_type": "code",
   "execution_count": 79,
   "id": "74821296-6864-4be4-93b9-f19ef9e25123",
   "metadata": {
    "id": "74821296-6864-4be4-93b9-f19ef9e25123",
    "outputId": "5a77489a-2b90-4d84-eb62-c0b11164fb5a"
   },
   "outputs": [
    {
     "name": "stdout",
     "output_type": "stream",
     "text": [
      "cuda\n"
     ]
    }
   ],
   "source": [
    "# Setting device to GPU if available\n",
    "if torch.cuda.is_available():\n",
    "    device = torch.device(\"cuda\")\n",
    "else:\n",
    "     device = torch.device(\"cpu\")\n",
    "\n",
    "print(device)"
   ]
  },
  {
   "cell_type": "code",
   "execution_count": 80,
   "id": "9844508b-899d-4883-94ab-ad06f3d2b274",
   "metadata": {
    "id": "9844508b-899d-4883-94ab-ad06f3d2b274",
    "outputId": "16c93af2-19b5-48ac-88e7-f344772ac544"
   },
   "outputs": [
    {
     "data": {
      "text/html": [
       "<div>\n",
       "<style scoped>\n",
       "    .dataframe tbody tr th:only-of-type {\n",
       "        vertical-align: middle;\n",
       "    }\n",
       "\n",
       "    .dataframe tbody tr th {\n",
       "        vertical-align: top;\n",
       "    }\n",
       "\n",
       "    .dataframe thead th {\n",
       "        text-align: right;\n",
       "    }\n",
       "</style>\n",
       "<table border=\"1\" class=\"dataframe\">\n",
       "  <thead>\n",
       "    <tr style=\"text-align: right;\">\n",
       "      <th></th>\n",
       "      <th>review</th>\n",
       "      <th>sentiment</th>\n",
       "    </tr>\n",
       "  </thead>\n",
       "  <tbody>\n",
       "    <tr>\n",
       "      <th>0</th>\n",
       "      <td>One of the other reviewers has mentioned that ...</td>\n",
       "      <td>positive</td>\n",
       "    </tr>\n",
       "    <tr>\n",
       "      <th>1</th>\n",
       "      <td>A wonderful little production. &lt;br /&gt;&lt;br /&gt;The...</td>\n",
       "      <td>positive</td>\n",
       "    </tr>\n",
       "    <tr>\n",
       "      <th>2</th>\n",
       "      <td>I thought this was a wonderful way to spend ti...</td>\n",
       "      <td>positive</td>\n",
       "    </tr>\n",
       "    <tr>\n",
       "      <th>3</th>\n",
       "      <td>Basically there's a family where a little boy ...</td>\n",
       "      <td>negative</td>\n",
       "    </tr>\n",
       "    <tr>\n",
       "      <th>4</th>\n",
       "      <td>Petter Mattei's \"Love in the Time of Money\" is...</td>\n",
       "      <td>positive</td>\n",
       "    </tr>\n",
       "  </tbody>\n",
       "</table>\n",
       "</div>"
      ],
      "text/plain": [
       "                                              review sentiment\n",
       "0  One of the other reviewers has mentioned that ...  positive\n",
       "1  A wonderful little production. <br /><br />The...  positive\n",
       "2  I thought this was a wonderful way to spend ti...  positive\n",
       "3  Basically there's a family where a little boy ...  negative\n",
       "4  Petter Mattei's \"Love in the Time of Money\" is...  positive"
      ]
     },
     "execution_count": 80,
     "metadata": {},
     "output_type": "execute_result"
    }
   ],
   "source": [
    "# loading dataset\n",
    "Dataset = 'IMDB_Dataset.csv'\n",
    "dataset = pd.read_csv(Dataset)\n",
    "dataset.head()"
   ]
  },
  {
   "cell_type": "code",
   "execution_count": 81,
   "id": "46abd57b-f130-4274-a955-809bc71c33fa",
   "metadata": {
    "id": "46abd57b-f130-4274-a955-809bc71c33fa"
   },
   "outputs": [],
   "source": [
    "# assigining x and y values and splitting the dataset into train and test datasets\n",
    "X= dataset['review'].values\n",
    "y = dataset['sentiment'].values\n",
    "x_train,x_test,y_train,y_test = train_test_split(X,y,stratify=y, test_size = 0.33)"
   ]
  },
  {
   "cell_type": "code",
   "execution_count": 82,
   "id": "b686f3b1-e772-4911-b561-e6935a4c46fc",
   "metadata": {
    "id": "b686f3b1-e772-4911-b561-e6935a4c46fc"
   },
   "outputs": [],
   "source": [
    "# encoding sentiment values\n",
    "from sklearn.preprocessing import LabelEncoder\n",
    "label_encoder = LabelEncoder()\n",
    "y_train_encoded = label_encoder.fit_transform(y_train)\n",
    "y_test_encoded = label_encoder.transform(y_test)"
   ]
  },
  {
   "cell_type": "code",
   "execution_count": 83,
   "id": "16c7034f-c325-48eb-8a68-43488fa2e163",
   "metadata": {
    "id": "16c7034f-c325-48eb-8a68-43488fa2e163",
    "outputId": "ce037672-69c6-46bf-e294-5256e146b278"
   },
   "outputs": [
    {
     "name": "stderr",
     "output_type": "stream",
     "text": [
      "[nltk_data] Downloading package stopwords to /home/ubuntu/nltk_data...\n",
      "[nltk_data]   Package stopwords is already up-to-date!\n"
     ]
    },
    {
     "data": {
      "text/plain": [
       "True"
      ]
     },
     "execution_count": 83,
     "metadata": {},
     "output_type": "execute_result"
    }
   ],
   "source": [
    "# downloading stopwords using nltk library\n",
    "nltk.download('stopwords')"
   ]
  },
  {
   "cell_type": "code",
   "execution_count": 84,
   "id": "0e9cc850-03fb-487b-b65a-28e07eb92668",
   "metadata": {
    "id": "0e9cc850-03fb-487b-b65a-28e07eb92668"
   },
   "outputs": [],
   "source": [
    "# removing unwanted text using regualr expressions\n",
    "def preprocessing_data(review):\n",
    "    review=re.sub(\"\\W+\",' ',review)\n",
    "    review=re.sub(r'\\sn\\s',' ',review)\n",
    "    review=re.sub(r'\\sr',' ',review)\n",
    "    review=re.sub(r'[0-9]',' ',review)\n",
    "    review=re.sub(r'\\sxac',' ',review)\n",
    "    review=re.sub(r'\\sxe',' ',review)\n",
    "    review=re.sub(r'\\sx\\s',' ',review)\n",
    "    review=re.sub(r'\\sdx\\s',' ',review)\n",
    "    review=re.sub(r'\\sck\\s',' ',review)\n",
    "    review=re.sub(r'\\sxc\\s',' ',review)\n",
    "    review=re.sub(r'\\sxbd\\s',' ',review)\n",
    "    review=re.sub(r'\\sxa\\s',' ',review)\n",
    "    review=re.sub(r'\\sxa\\s',' ',review)\n",
    "    review=re.sub(r'\\sxt\\s',' ',review)\n",
    "    review=re.sub(r'\\sxf\\s',' ',review)\n",
    "    review=re.sub(r'\\sxp\\s',' ',review)\n",
    "    review=re.sub(r'\\sxzy\\s',' ',review)\n",
    "    review=re.sub(r'\\sxs\\s',' ',review)\n",
    "    review=re.sub(r'\\sxa\\s',' ',review)\n",
    "    review=re.sub(r'\\sxsr\\s',' ',review)\n",
    "    review=re.sub(r'\\sda\\s',' ',review)\n",
    "    review=re.sub(r'\\sc\\s',' ',review)\n",
    "    review=re.sub(r'b\\s+',' ',review)\n",
    "    review=re.sub(r'\\s+',' ',review)\n",
    "    review=re.sub(r'\\s[a-z]\\s',' ',review)\n",
    "\n",
    "    return review\n",
    "\n",
    "\n"
   ]
  },
  {
   "cell_type": "code",
   "execution_count": 85,
   "id": "b108cd78-1e7c-4aa5-941c-f44ad1779f7b",
   "metadata": {
    "id": "b108cd78-1e7c-4aa5-941c-f44ad1779f7b"
   },
   "outputs": [],
   "source": [
    "# tokenization of the text\n",
    "def tokenize(x_train,x_test):\n",
    "    word_list = []\n",
    "    train_list = []\n",
    "    test_list = []\n",
    "\n",
    "    stop_words = set(stopwords.words('english'))\n",
    "    for i in x_train:\n",
    "        for word in i.lower().split():\n",
    "            word = preprocessing_data(word)\n",
    "            if word not in stop_words and word != '':\n",
    "                word_list.append(word)\n",
    "\n",
    "    corpus = Counter(word_list)\n",
    "    text = Counter(word_list)\n",
    "    total_words=len(text)\n",
    "    sorted_words=text.most_common(1500)\n",
    "    vocab = {w:i+1 for i,(w,u) in enumerate(sorted_words)}\n",
    "\n",
    "\n",
    "    for i in x_train:\n",
    "            train_list.append([vocab[preprocessing_data(word)] for word in i.lower().split()\n",
    "                                     if preprocessing_data(word) in vocab.keys()])\n",
    "    for j in x_test:\n",
    "            test_list.append([vocab[preprocessing_data(word)] for word in j.lower().split()\n",
    "                                    if preprocessing_data(word) in vocab.keys()])\n",
    "\n",
    "    return np.array(train_list), np.array(test_list),vocab"
   ]
  },
  {
   "cell_type": "code",
   "execution_count": 86,
   "id": "59a28cd3-6ea5-4151-a25e-58253499587c",
   "metadata": {
    "id": "59a28cd3-6ea5-4151-a25e-58253499587c",
    "outputId": "e1948663-65ab-43f5-82c6-b53a843f0962"
   },
   "outputs": [
    {
     "name": "stderr",
     "output_type": "stream",
     "text": [
      "<ipython-input-85-632b0c830e72>:28: VisibleDeprecationWarning: Creating an ndarray from ragged nested sequences (which is a list-or-tuple of lists-or-tuples-or ndarrays with different lengths or shapes) is deprecated. If you meant to do this, you must specify 'dtype=object' when creating the ndarray.\n",
      "  return np.array(train_list), np.array(test_list),vocab\n"
     ]
    }
   ],
   "source": [
    "x_train,x_test,vocabulary = tokenize(x_train,x_test)"
   ]
  },
  {
   "cell_type": "code",
   "execution_count": 87,
   "id": "367b3a98-01ba-4787-b2fc-e3d98e6e43c3",
   "metadata": {
    "id": "367b3a98-01ba-4787-b2fc-e3d98e6e43c3"
   },
   "outputs": [],
   "source": [
    "# padding to a sequence of length 300\n",
    "def padding_col(reviews, len_seq):\n",
    "    features = np.zeros((len(reviews), len_seq),dtype=int)\n",
    "    for i, review in enumerate(reviews):\n",
    "        if len(review) != 0:\n",
    "            features[i, -len(review):] = np.array(review)[:len_seq]\n",
    "    return features"
   ]
  },
  {
   "cell_type": "code",
   "execution_count": 88,
   "id": "bdd27c52-32ca-4dab-ba67-5a12aa21efc5",
   "metadata": {
    "id": "bdd27c52-32ca-4dab-ba67-5a12aa21efc5"
   },
   "outputs": [],
   "source": [
    "# padding x values of training and testing data\n",
    "x_train_ = padding_col(x_train,300)\n",
    "x_test_= padding_col(x_test,300)\n",
    "y_train = np.array(y_train)\n",
    "y_test = np.array(y_test)\n",
    "\n",
    "y_train_ = np.array(y_train_encoded, dtype=np.float64)\n",
    "y_test_ = np.array(y_test_encoded, dtype=np.float64)"
   ]
  },
  {
   "cell_type": "code",
   "execution_count": 89,
   "id": "a0e8a6ad-c4dc-4687-bcd7-f62aa08aabf4",
   "metadata": {
    "id": "a0e8a6ad-c4dc-4687-bcd7-f62aa08aabf4"
   },
   "outputs": [],
   "source": [
    "#Tensor datasets\n",
    "train_data = TensorDataset(torch.from_numpy(x_train_), torch.from_numpy(y_train_))\n",
    "test_data = TensorDataset(torch.from_numpy(x_test_), torch.from_numpy(y_test_))\n",
    "\n",
    "# dataloaders\n",
    "batch_size = 50\n",
    "# Initializing train loader and test loader\n",
    "train_loader = DataLoader(train_data, shuffle=True, batch_size=batch_size)\n",
    "test_loader = DataLoader(test_data, shuffle=True, batch_size=batch_size)"
   ]
  },
  {
   "cell_type": "code",
   "execution_count": 90,
   "id": "5046dce1-587b-41aa-82d5-d4fb72568827",
   "metadata": {
    "id": "5046dce1-587b-41aa-82d5-d4fb72568827"
   },
   "outputs": [],
   "source": [
    "#defining GRU Architecture\n",
    "class SentimentGRUNet(nn.Module):\n",
    "    def __init__(self, vocab_size, output_size, embedding_dim, hidden_dim, n_layers, drop_prob=0.5):\n",
    "        super(SentimentGRUNet, self).__init__()\n",
    "        self.output_size = output_size\n",
    "        self.n_layers = n_layers\n",
    "        self.hidden_dim = hidden_dim\n",
    "\n",
    "        self.embedding = nn.Embedding(vocab_size, embedding_dim)\n",
    "        self.gru = nn.GRU(embedding_dim, hidden_dim, n_layers, batch_first=True, dropout=drop_prob)\n",
    "        self.dropout = nn.Dropout(drop_prob)\n",
    "        self.fc = nn.Linear(hidden_dim, output_size)\n",
    "        self.sigmoid = nn.Sigmoid()\n",
    "\n",
    "    def forward(self, x, hidden):\n",
    "        batch_size = x.size(0)\n",
    "        x = x.long()\n",
    "        embeds = self.embedding(x)\n",
    "        gru_out, hidden = self.gru(embeds, hidden)\n",
    "        gru_out = gru_out[:, -1, :]\n",
    "        out = self.dropout(gru_out)\n",
    "        out = self.fc(out)\n",
    "        sig_out = self.sigmoid(out)\n",
    "        return sig_out, hidden\n",
    "\n",
    "    def init_hidden(self, batch_size):\n",
    "        weight = next(self.parameters()).data\n",
    "        hidden = weight.new(self.n_layers, batch_size, self.hidden_dim).zero_().to(device)\n",
    "        return hidden\n"
   ]
  },
  {
   "cell_type": "code",
   "execution_count": 91,
   "id": "f285e3c6-cb4f-4c5d-8cfb-3dfcf0a96582",
   "metadata": {
    "id": "f285e3c6-cb4f-4c5d-8cfb-3dfcf0a96582",
    "outputId": "4f49c666-a92a-4924-a9d3-e802d52f11d8"
   },
   "outputs": [
    {
     "name": "stdout",
     "output_type": "stream",
     "text": [
      "SentimentGRUNet(\n",
      "  (embedding): Embedding(1501, 400)\n",
      "  (gru): GRU(400, 256, num_layers=2, batch_first=True, dropout=0.5)\n",
      "  (dropout): Dropout(p=0.5, inplace=False)\n",
      "  (fc): Linear(in_features=256, out_features=1, bias=True)\n",
      "  (sigmoid): Sigmoid()\n",
      ")\n"
     ]
    }
   ],
   "source": [
    "# Inputs to the GRU model\n",
    "vocab_size = len(vocabulary) + 1\n",
    "output_size = 1\n",
    "embedding_dim = 400\n",
    "hidden_dim = 256\n",
    "n_layers = 2\n",
    "\n",
    "model = SentimentGRUNet(vocab_size, output_size, embedding_dim, hidden_dim, n_layers, drop_prob=0.5)\n",
    "model.to(device)\n",
    "print(model)\n"
   ]
  },
  {
   "cell_type": "code",
   "execution_count": 92,
   "id": "15c0e837-7335-4e15-9241-89a0e8587d48",
   "metadata": {
    "id": "15c0e837-7335-4e15-9241-89a0e8587d48"
   },
   "outputs": [],
   "source": [
    "# initializing loss\n",
    "criterion = nn.BCELoss()\n",
    "# initilizing optimization functions\n",
    "lr=0.001\n",
    "optimizer = torch.optim.Adam(model.parameters(), lr=lr)\n"
   ]
  },
  {
   "cell_type": "code",
   "execution_count": 93,
   "id": "4346cd46-e0a1-41ad-9865-af2ce3af1306",
   "metadata": {
    "id": "4346cd46-e0a1-41ad-9865-af2ce3af1306",
    "outputId": "08dca606-20d6-4e1e-c46a-3ab93b1b71e3"
   },
   "outputs": [
    {
     "name": "stdout",
     "output_type": "stream",
     "text": [
      "Epoch 1\n",
      "train_loss : 0.44524566159764334 train_accuracy : 0.7871641791044776\n",
      "Epoch 2\n",
      "train_loss : 0.31057118836845926 train_accuracy : 0.8699104477611941\n",
      "Epoch 3\n",
      "train_loss : 0.24838262048007836 train_accuracy : 0.9007761194029851\n",
      "Epoch 4\n",
      "train_loss : 0.17368263426000502 train_accuracy : 0.934\n",
      "Epoch 5\n",
      "train_loss : 0.11104545710997572 train_accuracy : 0.959910447761194\n",
      "Epoch 6\n",
      "train_loss : 0.07181624880533165 train_accuracy : 0.9736716417910448\n",
      "Epoch 7\n",
      "train_loss : 0.05398174675612419 train_accuracy : 0.9805373134328358\n",
      "Epoch 8\n",
      "train_loss : 0.043507301989497975 train_accuracy : 0.9849253731343284\n",
      "Epoch 9\n",
      "train_loss : 0.03733402627855609 train_accuracy : 0.9866865671641791\n",
      "Epoch 10\n",
      "train_loss : 0.03520617127981482 train_accuracy : 0.9871044776119403\n"
     ]
    }
   ],
   "source": [
    "# Training LSTM  with 10 epochs\n",
    "clip = 5\n",
    "num_epochs = 10\n",
    "train_loss = []\n",
    "train_accuracy = []\n",
    "for epoch in range(num_epochs):\n",
    "    training_losses = []\n",
    "    training_accuracy = 0\n",
    "    model.train()\n",
    "    for inputs, labels in train_loader:\n",
    "        inputs = inputs.to(device)\n",
    "        labels = labels.to(device)\n",
    "        model.zero_grad()\n",
    "        h = model.init_hidden(batch_size)\n",
    "        h = h.data  # Detach hidden state from history\n",
    "        output, h = model(inputs, h)\n",
    "        loss = criterion(output.squeeze(), labels.float())\n",
    "        loss.backward()\n",
    "        training_losses.append(loss.item())\n",
    "        output = torch.round(output.squeeze())\n",
    "        accuracy = torch.sum(output == labels.squeeze()).item()\n",
    "        training_accuracy += accuracy\n",
    "        nn.utils.clip_grad_norm_(model.parameters(), clip)\n",
    "        optimizer.step()\n",
    "    train_loss_ = np.mean(training_losses)\n",
    "    train_acc_ = training_accuracy/len(train_loader.dataset)\n",
    "    train_loss.append(train_loss_)\n",
    "    train_accuracy.append(train_acc_)\n",
    "    print(f'Epoch {epoch+1}')\n",
    "    print(f'train_loss : {train_loss_} train_accuracy : {train_acc_}')\n",
    "\n",
    "\n"
   ]
  },
  {
   "cell_type": "code",
   "execution_count": 94,
   "id": "6fd9bd0b-5240-4edf-ada8-994623fcbbd7",
   "metadata": {
    "id": "6fd9bd0b-5240-4edf-ada8-994623fcbbd7",
    "outputId": "f459d178-399d-4fa9-a296-7c2354de0b58"
   },
   "outputs": [
    {
     "data": {
      "text/plain": [
       "<matplotlib.legend.Legend at 0x7facfd211d60>"
      ]
     },
     "execution_count": 94,
     "metadata": {},
     "output_type": "execute_result"
    },
    {
     "data": {
      "image/png": "[encoded data removed]",
      "text/plain": [
       "<Figure size 1080x360 with 1 Axes>"
      ]
     },
     "metadata": {
      "needs_background": "light"
     },
     "output_type": "display_data"
    }
   ],
   "source": [
    "# plotting curve for training accuracy of GRU\n",
    "fig = plt.figure(figsize = (15, 5))\n",
    "plt.subplot(1, 2, 1)\n",
    "plt.plot(train_accuracy, label='Train Accuracy', color = 'red')\n",
    "plt.title(\"GRU train Accuracy\")\n",
    "plt.legend()"
   ]
  },
  {
   "cell_type": "code",
   "execution_count": 95,
   "id": "5af9d699-8fcb-4b06-b408-f23331c7f5ca",
   "metadata": {
    "id": "5af9d699-8fcb-4b06-b408-f23331c7f5ca",
    "outputId": "12acb808-6838-48c9-9b9b-a3bc67a9681a"
   },
   "outputs": [
    {
     "data": {
      "text/plain": [
       "<matplotlib.legend.Legend at 0x7fab54a8d730>"
      ]
     },
     "execution_count": 95,
     "metadata": {},
     "output_type": "execute_result"
    },
    {
     "data": {
      "image/png": "[encoded data removed]",
      "text/plain": [
       "<Figure size 1080x360 with 1 Axes>"
      ]
     },
     "metadata": {
      "needs_background": "light"
     },
     "output_type": "display_data"
    }
   ],
   "source": [
    "# plotting curve for loss for GRU training\n",
    "fig = plt.figure(figsize = (15, 5))\n",
    "plt.subplot(1, 2, 1)\n",
    "plt.plot(train_loss, label='Training loss')\n",
    "plt.title(\"GRU train Loss\")\n",
    "plt.legend()"
   ]
  },
  {
   "cell_type": "code",
   "execution_count": 96,
   "id": "527c6ff3-6f4f-47c1-95c6-f68da25571aa",
   "metadata": {
    "id": "527c6ff3-6f4f-47c1-95c6-f68da25571aa",
    "outputId": "aa16e74a-08a3-4520-b6cd-9d2d62590afd"
   },
   "outputs": [
    {
     "name": "stdout",
     "output_type": "stream",
     "text": [
      "Epoch 1\n",
      "test_loss : 0.7681634509145762 test_accuracy : 0.8361212121212122\n",
      "Epoch 2\n",
      "test_loss : 0.7646744458512826 test_accuracy : 0.8384848484848485\n",
      "Epoch 3\n",
      "test_loss : 0.7630138974298131 test_accuracy : 0.8384848484848485\n",
      "Epoch 4\n",
      "test_loss : 0.7615843606717658 test_accuracy : 0.8387878787878787\n",
      "Epoch 5\n",
      "test_loss : 0.7673453264164202 test_accuracy : 0.8384242424242424\n",
      "Epoch 6\n",
      "test_loss : 0.7633478564520677 test_accuracy : 0.8398181818181818\n",
      "Epoch 7\n",
      "test_loss : 0.7633147909559986 test_accuracy : 0.8392727272727273\n",
      "Epoch 8\n",
      "test_loss : 0.7553479373003498 test_accuracy : 0.8392727272727273\n",
      "Epoch 9\n",
      "test_loss : 0.759829339926893 test_accuracy : 0.8395757575757575\n",
      "Epoch 10\n",
      "test_loss : 0.7606130213448495 test_accuracy : 0.8396363636363636\n"
     ]
    }
   ],
   "source": [
    "# testing LSTM model with 10 epochs\n",
    "clip = 5\n",
    "num_epochs = 10\n",
    "test_loss_list = []\n",
    "test_accuracy = []\n",
    "for epoch in range(num_epochs):\n",
    "    test_h = model.init_hidden(batch_size)\n",
    "    test_losses = []\n",
    "    test_acc = 0.0\n",
    "    model.eval()\n",
    "    for inputs, labels in test_loader:\n",
    "        #test_h = tuple([each.data for each in test_h])\n",
    "        inputs, labels = inputs.to(device), labels.to(device)\n",
    "        output, test_h = model(inputs, test_h)\n",
    "        test_loss = criterion(output.squeeze(), labels.float())\n",
    "        test_losses.append(test_loss.item())\n",
    "        output = torch.round(output.squeeze())\n",
    "        accuracy = torch.sum(output == labels.squeeze()).item()\n",
    "        test_acc += accuracy\n",
    "    test_loss_ = np.mean(test_losses)\n",
    "    test_acc_ = test_acc/len(test_loader.dataset)\n",
    "    test_loss_list.append(test_loss_)\n",
    "    test_accuracy.append(test_acc_)\n",
    "    print(f'Epoch {epoch+1}')\n",
    "    print(f'test_loss : {test_loss_} test_accuracy : {test_acc_}')\n"
   ]
  },
  {
   "cell_type": "code",
   "execution_count": 97,
   "id": "dd4ede3b-defd-48b3-8e48-073364055577",
   "metadata": {
    "id": "dd4ede3b-defd-48b3-8e48-073364055577",
    "outputId": "fa5534d5-f651-45e2-ef85-b67b704a995d"
   },
   "outputs": [
    {
     "data": {
      "text/plain": [
       "<matplotlib.legend.Legend at 0x7fab54ae6b50>"
      ]
     },
     "execution_count": 97,
     "metadata": {},
     "output_type": "execute_result"
    },
    {
     "data": {
      "image/png": "[encoded data removed]",
      "text/plain": [
       "<Figure size 1080x360 with 1 Axes>"
      ]
     },
     "metadata": {
      "needs_background": "light"
     },
     "output_type": "display_data"
    }
   ],
   "source": [
    "# curve for GRU test loss\n",
    "fig = plt.figure(figsize = (15, 5))\n",
    "plt.subplot(1, 2, 1)\n",
    "plt.plot(test_loss_list, label='Testing loss')\n",
    "plt.title(\"LSTM test Loss\")\n",
    "plt.legend()\n"
   ]
  },
  {
   "cell_type": "code",
   "execution_count": 98,
   "id": "935d2bcc-397c-41b3-997e-cc49062ec5ce",
   "metadata": {
    "id": "935d2bcc-397c-41b3-997e-cc49062ec5ce",
    "outputId": "060fbd8a-3d5e-453a-c5dc-98562ceaeab3"
   },
   "outputs": [
    {
     "data": {
      "text/plain": [
       "<matplotlib.legend.Legend at 0x7fab54391130>"
      ]
     },
     "execution_count": 98,
     "metadata": {},
     "output_type": "execute_result"
    },
    {
     "data": {
      "image/png": "[encoded data removed]",
      "text/plain": [
       "<Figure size 1080x360 with 1 Axes>"
      ]
     },
     "metadata": {
      "needs_background": "light"
     },
     "output_type": "display_data"
    }
   ],
   "source": [
    "# curve for GRU test accuracy\n",
    "fig = plt.figure(figsize = (15, 5))\n",
    "plt.subplot(1, 2, 1)\n",
    "plt.plot(test_accuracy, label='Testing accuracy', color = 'red')\n",
    "plt.title(\"LSTM test Accuracy\")\n",
    "plt.legend()"
   ]
  }
 ],
 "metadata": {
  "colab": {
   "provenance": []
  },
  "kernelspec": {
   "display_name": "Python 3",
   "language": "python",
   "name": "python3"
  },
  "language_info": {
   "codemirror_mode": {
    "name": "ipython",
    "version": 3
   },
   "file_extension": ".py",
   "mimetype": "text/x-python",
   "name": "python",
   "nbconvert_exporter": "python",
   "pygments_lexer": "ipython3",
   "version": "3.8.10"
  }
 },
 "nbformat": 4,
 "nbformat_minor": 5
}
